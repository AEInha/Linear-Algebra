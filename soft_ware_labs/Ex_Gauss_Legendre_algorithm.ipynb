{
  "nbformat": 4,
  "nbformat_minor": 0,
  "metadata": {
    "colab": {
      "name": "Ex_Gauss-Legendre_algorithm.ipynb",
      "provenance": [],
      "include_colab_link": true
    },
    "kernelspec": {
      "display_name": "Python 3",
      "language": "python",
      "name": "python3"
    }
  },
  "cells": [
    {
      "cell_type": "markdown",
      "metadata": {
        "id": "view-in-github",
        "colab_type": "text"
      },
      "source": [
        "<a href=\"https://colab.research.google.com/github/AEInha/Linear-Algebra/blob/main/Ex_Gauss_Legendre_algorithm.ipynb\" target=\"_parent\"><img src=\"https://colab.research.google.com/assets/colab-badge.svg\" alt=\"Open In Colab\"/></a>"
      ]
    },
    {
      "cell_type": "markdown",
      "metadata": {
        "id": "fk-IfVHq98dJ"
      },
      "source": [
        "# Ex) Gauss-Legendre algorithm\n"
      ]
    },
    {
      "cell_type": "markdown",
      "metadata": {
        "id": "-yURUfOt9-FT"
      },
      "source": [
        "__<div style=\"text-align: right\"> EE370: Software lab, Kyung Hee University. </div>__\n",
        "_<div style=\"text-align: right\"> Jong-Han Kim (jonghank@khu.ac.kr) </div>_"
      ]
    },
    {
      "cell_type": "markdown",
      "metadata": {
        "id": "2zulqqFg9-am"
      },
      "source": [
        "The Gauss–Legendre algorithm is an algorithm to compute the digits of $\\pi$. It is notable for being rapidly convergent, with only 25 iterations producing 45 million correct digits of $\\pi$. However, the drawback is that it is computer memory-intensive and therefore sometimes Machin-like formulas are used instead.\n",
        "\n",
        "The method is based on the individual work of Carl Friedrich Gauss (1777–1855) and Adrien-Marie Legendre (1752–1833) combined with modern algorithms for multiplication and square roots. It repeatedly replaces two numbers by their arithmetic and geometric mean, in order to approximate their arithmetic-geometric mean.\n",
        "\n",
        "The version presented below is also known as the Gauss–Euler, Brent–Salamin (or Salamin–Brent) algorithm; it was independently discovered in 1975 by Richard Brent and Eugene Salamin. It was used to compute the first 206,158,430,000 decimal digits of $\\pi$ on September 18 to 20, 1999, and the results were checked with Borwein's algorithm."
      ]
    },
    {
      "cell_type": "markdown",
      "metadata": {
        "id": "W55vyqKhYEvc"
      },
      "source": [
        "### Algorithm:\n",
        "\n",
        "1. Initial value setting:\n",
        "\n",
        "$$\n",
        "{ a_{0}=1\\qquad b_{0}={\\frac {1}{\\sqrt {2}}}\\qquad t_{0}={\\frac {1}{4}}\\qquad p_{0}=1.}\n",
        "$$\n",
        "\n",
        "<br>\n",
        "\n",
        "2. Repeat the following instructions until the difference of $a_n$ and $b_n$ is sufficiently small:\n",
        "\n",
        "$$\n",
        "{ {\\begin{aligned}a_{n+1}&={\\frac {a_{n}+b_{n}}{2}},\\\\\\\\b_{n+1}&={\\sqrt {a_{n}b_{n}}},\\\\\\\\t_{n+1}&=t_{n}-p_{n}\\left(\\frac{a_{n}-b_{n}}{2}\\right)^{2},\\\\\\\\p_{n+1}&=2p_{n}.\\\\\\end{aligned}}}\n",
        "$$\n",
        "\n",
        "<br>\n",
        "\n",
        "3. $\\pi$ is then approximated as:\n",
        "\n",
        "$${ \\pi_{n} \\approx {\\frac {(a_{n}+b_{n})^{2}}{4t_{n}}}.}\n",
        "$$\n",
        "\n",
        "___\n",
        "\n",
        "<br>\n",
        "\n",
        "Implement this to find the approximations of $\\pi$, and briefly explain how fast this algorithm converges.\n",
        "\n",
        "<br>"
      ]
    },
    {
      "cell_type": "code",
      "metadata": {
        "id": "czyQokraa08w",
        "colab": {
          "base_uri": "https://localhost:8080/"
        },
        "outputId": "ef893826-7a77-4f53-da7e-65cabdf09104"
      },
      "source": [
        "# your code here\n",
        "import numpy as np\n",
        "\n",
        "def gauss_legendre(n):\n",
        "  A = [1, 1/np.sqrt(2), 1/4, 1]\n",
        "  for i in range(n):\n",
        "    A[0],A[1],A[2],A[3] = (A[0]+A[1])/2 , np.sqrt(A[0]*A[1]), A[2] - A[3]*(((A[0]-A[1])/2)**2), 2*A[3]\n",
        "\n",
        "  return (A[0]+A[1])**2 / (4*A[2])\n",
        "\n",
        "for i in range(10):\n",
        "  print(gauss_legendre(i))"
      ],
      "execution_count": 15,
      "outputs": [
        {
          "output_type": "stream",
          "name": "stdout",
          "text": [
            "2.914213562373095\n",
            "3.1405792505221686\n",
            "3.141592646213543\n",
            "3.141592653589794\n",
            "3.141592653589794\n",
            "3.141592653589794\n",
            "3.141592653589794\n",
            "3.141592653589794\n",
            "3.141592653589794\n",
            "3.141592653589794\n"
          ]
        }
      ]
    },
    {
      "cell_type": "markdown",
      "metadata": {
        "id": "3lNJ1YNyevKa"
      },
      "source": [
        "---\n",
        "<div style=\"text-align: right\">\n",
        "References:\n",
        "  \n",
        "1) https://en.wikipedia.org/wiki/Gauss–Legendre_algorithm\n",
        "\n",
        "</div>"
      ]
    }
  ]
}
