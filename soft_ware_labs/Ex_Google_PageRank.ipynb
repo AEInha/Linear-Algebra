{
  "nbformat": 4,
  "nbformat_minor": 0,
  "metadata": {
    "colab": {
      "name": "Ex_Google_PageRank.ipynb",
      "provenance": [],
      "include_colab_link": true
    },
    "kernelspec": {
      "display_name": "Python 3",
      "language": "python",
      "name": "python3"
    }
  },
  "cells": [
    {
      "cell_type": "markdown",
      "metadata": {
        "id": "view-in-github",
        "colab_type": "text"
      },
      "source": [
        "<a href=\"https://colab.research.google.com/github/AEInha/Linear-Algebra/blob/main/soft_ware_labs/Ex_Google_PageRank.ipynb\" target=\"_parent\"><img src=\"https://colab.research.google.com/assets/colab-badge.svg\" alt=\"Open In Colab\"/></a>"
      ]
    },
    {
      "cell_type": "markdown",
      "metadata": {
        "id": "7gI-cY4cmMoZ"
      },
      "source": [
        "# Ex) Google PageRank\n",
        "\n",
        "$$\n",
        "\\newcommand{\\eg}{{\\it e.g.}}\n",
        "\\newcommand{\\ie}{{\\it i.e.}}\n",
        "\\newcommand{\\argmin}{\\operatornamewithlimits{argmin}}\n",
        "\\newcommand{\\mc}{\\mathcal}\n",
        "\\newcommand{\\mb}{\\mathbb}\n",
        "\\newcommand{\\mf}{\\mathbf}\n",
        "\\newcommand{\\minimize}{{\\text{minimize}}}\n",
        "\\newcommand{\\diag}{{\\text{diag}}}\n",
        "\\newcommand{\\cond}{{\\text{cond}}}\n",
        "\\newcommand{\\rank}{{\\text{rank }}}\n",
        "\\newcommand{\\range}{{\\mathcal{R}}}\n",
        "\\newcommand{\\null}{{\\mathcal{N}}}\n",
        "\\newcommand{\\tr}{{\\text{trace}}}\n",
        "\\newcommand{\\dom}{{\\text{dom}}}\n",
        "\\newcommand{\\dist}{{\\text{dist}}}\n",
        "\\newcommand{\\R}{\\mathbf{R}}\n",
        "\\newcommand{\\SM}{\\mathbf{S}}\n",
        "\\newcommand{\\ball}{\\mathcal{B}}\n",
        "\\newcommand{\\bmat}[1]{\\begin{bmatrix}#1\\end{bmatrix}}\n",
        "$$"
      ]
    },
    {
      "cell_type": "markdown",
      "metadata": {
        "id": "2Y1dQ8F_mMob"
      },
      "source": [
        "__<div style=\"text-align: right\"> EE370: Software lab, Kyung Hee University. </div>__\n",
        "_<div style=\"text-align: right\"> Jong-Han Kim (jonghank@khu.ac.kr) </div>_\n",
        "\n"
      ]
    },
    {
      "cell_type": "markdown",
      "metadata": {
        "id": "xqmylL4LJqjg"
      },
      "source": [
        "The Google PageRank, named after Larry Page, one of the co-founders of Google, is an algorithm that ranks the webpages based on the hyperlink connections of the webpages on relevant topics, hence the Google search can return the list of the webpages in an appropriate order of the PageRank indices.\n",
        "\n",
        "According to Google, the PageRank works by counting the number and quality of links to a page to determine a rough estimate of how important the website is. The underlying assumption is that more important websites are likely to receive more links from other websites.\n",
        "\n",
        "  <img src=\"https://upload.wikimedia.org/wikipedia/en/8/8b/PageRanks-Example.jpg\" width=\"500\">"
      ]
    },
    {
      "cell_type": "markdown",
      "metadata": {
        "id": "c3aq7W6e-eKk"
      },
      "source": [
        "The PageRank algorithm outputs a probability distribution used to represent the likelihood that a person randomly clicking on links will arrive at any particular page.\n",
        "\n",
        "Suppose there are $n$ webpages on a specific topic, where some of them have hyperlinks to others. Then the PageRank of the webpage $i$, $p_i$, can be represented by\n",
        "\n",
        "$$\n",
        "  p_i = \\frac{1-\\zeta}{n} + \\sum_{j\\in\\mc{N}_i} \\zeta\\frac{p_j}{d_j}\n",
        "$$\n",
        "\n",
        "where\n",
        "- $d_j$ is the number of outbound links from the webpage $j$\n",
        "- $\\mc{N}_i$ is the set of webpages that have the outbound links to the webpage $i$\n",
        "- $\\zeta>0$ is the damping factor, which can be interpreted as the probability that a person is not satisfied with the current webpage and clinks on the links to the other pages, and we normally set $\\zeta=0.85$\n"
      ]
    },
    {
      "cell_type": "markdown",
      "metadata": {
        "id": "ywwY2x97Bejj"
      },
      "source": [
        "The above relation can be compactly written by the following matrix form,\n",
        "\n",
        "$$\n",
        "  p = \\frac{1-\\zeta}{n} {\\bf 1} + \\zeta M p\n",
        "$$\n",
        "\n",
        "where $p = \\bmat{p_1 & p_2 & \\cdots & p_n}^T$, and ${\\bf 1}\\in\\R^{n}$ is the one-vector whose elements are all 1's.\n",
        "\n",
        "1. What is $M_{ij}$, for $i,j \\in \\{1,\\dots,n\\}$?\n",
        "\n"
      ]
    },
    {
      "cell_type": "markdown",
      "metadata": {
        "id": "w-MyGqxdR9p2"
      },
      "source": [
        "> ---\n",
        "> `# your answer here`\n",
        ">\n",
        "> $$\n",
        "M_{ij} =\n",
        "\\begin{cases}\n",
        "  \\frac{1}{d_j} &\\quad \\text{if $j\\in\\mc{N}_i$ ($j$ has outbound link to $i$)} \\\\\n",
        "  0 &\\quad \\text{otherwise}\n",
        "\\end{cases}\n",
        "$$\n",
        ">\n",
        "> ---\n"
      ]
    },
    {
      "cell_type": "markdown",
      "metadata": {
        "id": "47-iFrN2R4Hc"
      },
      "source": [
        "Once you obtained $M\\in\\R^{n\\times n}$, you can solve the above linear equations for $p$. In other words, you can obtain the PageRank for all the $n$ webpages by\n",
        "\n",
        "$$\n",
        "  p = \\frac{1-\\zeta}{n}\\left(I - \\zeta M \\right)^{-1} {\\bf 1}\n",
        "$$\n",
        "\n",
        "However in most cases where the number of webpages that contain somethings you are interested in is extremely large, computing the inverse appearing above is practically impossible. For example googling \"BTS\" returns approximately 528 million documents; you won't be able to compute the inverse of $528000000\\times 528000000$ matrix.\n",
        "\n",
        "Instead of this direct method, you can also solve for $p$ by using the following iterative method.\n",
        "\n",
        "$$\n",
        "  p^{k+1} = \\frac{1-\\zeta}{n} {\\bf 1} + \\zeta M p^{k}\n",
        "$$\n",
        "\n",
        "where $p^k$ stands for the page rank $p$ at the $k$-th iteration step. From a random initial condition $p^0$, you can keep updating $p^k$ until the update amount is sufficiently small. It turns out that this update rule converges for $0<\\zeta<1$."
      ]
    },
    {
      "cell_type": "markdown",
      "metadata": {
        "id": "AvRyj9kiJtBd"
      },
      "source": [
        "Now a toy example. Suppose we have the small space of 11 webpages whose list of outbound link connections are given by\n",
        "\n",
        "- Page A has links to A,B,C,D,E,F,G,H,I,J,K (everyone)\n",
        "- Page B has links to C\n",
        "- Page C has links to B\n",
        "- Page D has links to A, B\n",
        "- Page E has links to B, D, F\n",
        "- Page F has links to B, E\n",
        "- Page G has links to B, E\n",
        "- Page H has links to B, E\n",
        "- Page I has links to B, E\n",
        "- Page J has links to E\n",
        "- Page K has links to E"
      ]
    },
    {
      "cell_type": "markdown",
      "metadata": {
        "id": "PgAka7GbLg13"
      },
      "source": [
        "\n",
        "2. Build $M$. In other words, define a $11\\times 11$ matrix $M$ and assign the explicit numeric value for each $M_{ij}$."
      ]
    },
    {
      "cell_type": "code",
      "metadata": {
        "id": "-i8MTdnZL73M",
        "colab": {
          "base_uri": "https://localhost:8080/",
          "height": 619
        },
        "outputId": "301ef3c0-7669-42ab-c9de-7aa8a5cd1c98"
      },
      "source": [
        "import numpy as np\n",
        "dict_M = {\n",
        "    \"A\":{\"A\",\"B\",\"C\",\"D\",\"E\",\"F\",\"G\",\"H\",\"I\",\"J\",\"K\"},\n",
        "    \"B\":{\"C\"},\n",
        "    \"C\":{\"B\"},\n",
        "    \"D\":{\"A\",\"B\"},\n",
        "    \"E\":{\"B\",\"D\",\"F\"},\n",
        "    \"F\":{\"B\",\"E\"},\n",
        "    \"G\":{\"B\",\"E\"},\n",
        "    \"H\":{\"B\",\"E\"},\n",
        "    \"I\":{\"B\",\"E\"},\n",
        "    \"J\":{\"E\"},\n",
        "    \"K\":{\"E\"}\n",
        "}\n",
        "alphabet = sorted(list(dict_M.keys()))\n",
        "M = np.array([[float(0) for i in range(11)]for j in range(11)])\n",
        "for i in range(len(M)):\n",
        "  for j in range(len(M)):\n",
        "    if alphabet[i] in dict_M[alphabet[j]]:\n",
        "      M[i][j] = 1 / len(dict_M[alphabet[j]])\n",
        "    else:\n",
        "      continue\n",
        "display(M)"
      ],
      "execution_count": 57,
      "outputs": [
        {
          "output_type": "display_data",
          "data": {
            "text/plain": [
              "array([[0.09090909, 0.        , 0.        , 0.5       , 0.        ,\n",
              "        0.        , 0.        , 0.        , 0.        , 0.        ,\n",
              "        0.        ],\n",
              "       [0.09090909, 0.        , 1.        , 0.5       , 0.33333333,\n",
              "        0.5       , 0.5       , 0.5       , 0.5       , 0.        ,\n",
              "        0.        ],\n",
              "       [0.09090909, 1.        , 0.        , 0.        , 0.        ,\n",
              "        0.        , 0.        , 0.        , 0.        , 0.        ,\n",
              "        0.        ],\n",
              "       [0.09090909, 0.        , 0.        , 0.        , 0.33333333,\n",
              "        0.        , 0.        , 0.        , 0.        , 0.        ,\n",
              "        0.        ],\n",
              "       [0.09090909, 0.        , 0.        , 0.        , 0.        ,\n",
              "        0.5       , 0.5       , 0.5       , 0.5       , 1.        ,\n",
              "        1.        ],\n",
              "       [0.09090909, 0.        , 0.        , 0.        , 0.33333333,\n",
              "        0.        , 0.        , 0.        , 0.        , 0.        ,\n",
              "        0.        ],\n",
              "       [0.09090909, 0.        , 0.        , 0.        , 0.        ,\n",
              "        0.        , 0.        , 0.        , 0.        , 0.        ,\n",
              "        0.        ],\n",
              "       [0.09090909, 0.        , 0.        , 0.        , 0.        ,\n",
              "        0.        , 0.        , 0.        , 0.        , 0.        ,\n",
              "        0.        ],\n",
              "       [0.09090909, 0.        , 0.        , 0.        , 0.        ,\n",
              "        0.        , 0.        , 0.        , 0.        , 0.        ,\n",
              "        0.        ],\n",
              "       [0.09090909, 0.        , 0.        , 0.        , 0.        ,\n",
              "        0.        , 0.        , 0.        , 0.        , 0.        ,\n",
              "        0.        ],\n",
              "       [0.09090909, 0.        , 0.        , 0.        , 0.        ,\n",
              "        0.        , 0.        , 0.        , 0.        , 0.        ,\n",
              "        0.        ]])"
            ]
          },
          "metadata": {}
        }
      ]
    },
    {
      "cell_type": "markdown",
      "metadata": {
        "id": "bl5rHq7bQLGN"
      },
      "source": [
        "3. Randomly generate initial $p^0>0$ such that $\\|p^0\\|_1=1$, and use the update rule\n",
        "$$\n",
        "  p^{k+1} = \\frac{1-\\zeta}{n} {\\bf 1} + \\zeta M p^{k}\n",
        "$$\n",
        "with $\\zeta=0.85$ until the update amount is sufficiently small. For example you could keep iterating until $k=K$ when the following convergence is achieved.\n",
        "$$\\|p^{K+1}-p^{K}\\|_2<10^{-6}$$\n",
        "\n",
        "> a) How many iterations dis you need to get the convergence?\n",
        ">\n",
        ">\n",
        "> b) Which webpage has the highest PageRank? List the PageRank of each page."
      ]
    },
    {
      "cell_type": "code",
      "metadata": {
        "id": "moY2FidMmMog",
        "colab": {
          "base_uri": "https://localhost:8080/"
        },
        "outputId": "b7b2e396-0252-454d-b25b-8f7f1a3103fb"
      },
      "source": [
        "one = np.array([1 for i in range(11)])\n",
        "\n",
        "n =11\n",
        "\n",
        "p_before=np.random.rand(n)\n",
        "\n",
        "abs = np.sum(np.abs(p_before))\n",
        "\n",
        "\n",
        "p_before = p_before / abs\n",
        "iteration = 0\n",
        "\n",
        "while True:\n",
        "  p_after = (0.15/11) * one + 0.85 * M@p_before\n",
        "  if np.linalg.norm(p_after-p_before) < 10**(-6):\n",
        "    break\n",
        "  else:\n",
        "    p_before = p_after\n",
        "    iteration +=1\n",
        "\n",
        "print(iteration)\n",
        "print(p_after)"
      ],
      "execution_count": 54,
      "outputs": [
        {
          "output_type": "stream",
          "name": "stdout",
          "text": [
            "74\n",
            "[0.03278149 0.38440126 0.34290997 0.03908709 0.08088569 0.03908709\n",
            " 0.01616948 0.01616948 0.01616948 0.01616948 0.01616948]\n"
          ]
        }
      ]
    },
    {
      "cell_type": "code",
      "source": [
        "##이는 Eigenvalue와 비슷하다.\n",
        "\n",
        "##eigenvalue를 계산해보자.\n",
        "\n"
      ],
      "metadata": {
        "id": "AzL6UzfJ4YwL"
      },
      "execution_count": null,
      "outputs": []
    },
    {
      "cell_type": "markdown",
      "metadata": {
        "id": "Z1lPNAbd8_2W"
      },
      "source": [
        "---\n",
        "_<div style=\"text-align: right\">\n",
        "Contents partially taken from Wikipedia (https://en.wikipedia.org/wiki/PageRank).\n",
        "</div>_\n",
        "\n",
        "\n"
      ]
    }
  ]
}