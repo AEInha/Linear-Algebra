{
  "nbformat": 4,
  "nbformat_minor": 0,
  "metadata": {
    "colab": {
      "name": "Ex_Prime_counting_function.ipynb",
      "provenance": [],
      "include_colab_link": true
    },
    "kernelspec": {
      "display_name": "Python 3",
      "language": "python",
      "name": "python3"
    }
  },
  "cells": [
    {
      "cell_type": "markdown",
      "metadata": {
        "id": "view-in-github",
        "colab_type": "text"
      },
      "source": [
        "<a href=\"https://colab.research.google.com/github/AEInha/Linear-Algebra/blob/main/Ex_Prime_counting_function.ipynb\" target=\"_parent\"><img src=\"https://colab.research.google.com/assets/colab-badge.svg\" alt=\"Open In Colab\"/></a>"
      ]
    },
    {
      "metadata": {
        "id": "fk-IfVHq98dJ"
      },
      "cell_type": "markdown",
      "source": [
        "# Ex) Prime counting function"
      ]
    },
    {
      "metadata": {
        "id": "-yURUfOt9-FT"
      },
      "cell_type": "markdown",
      "source": [
        "__<div style=\"text-align: right\"> EE370: Software lab, Kyung Hee University. </div>__\n",
        "_<div style=\"text-align: right\"> Jong-Han Kim (jonghank@khu.ac.kr) </div>_"
      ]
    },
    {
      "metadata": {
        "id": "2zulqqFg9-am"
      },
      "cell_type": "markdown",
      "source": [
        "The prime-counting function is the function counting the number of prime numbers less than or equal to some positive integet $n$. We usually call the function by $\\pi(n)$.\n",
        "\n",
        "In this problem, you will be developing a code that computes $\\pi(n)$.\n",
        "First write a function Write a function `Eratosthenes(n)` that lists all the prime numbers less than or equal to `n`, by using the process of the Sieve of Eratosthenes as follows.\n",
        "\n",
        "1. Create a list of consecutive integers from $2$ through $n$: ($2, 3, 4, \\dots, n$).\n",
        "2. Initially, let $p$ equal $2$, the smallest prime number.\n",
        "3. Enumerate the multiples of $p$ by counting in increments of $p$ from $2p$ to $n$, and mark them in the list (these will be $2p, 3p, 4p,\\dots$; the $p$ itself should not be marked).\n",
        "4. Find the first number greater than $p$ in the list that is not marked. If there was no such number, stop. Otherwise, let $p$ now equal this new number (which is the next prime), and repeat from step 3.\n",
        "5. The algorithm terminates when $p^2$ is greater than $n$. Then the numbers remaining not marked in the list are all the primes below $n$.\n",
        "\n",
        "Once you've found the list of all the prime numbers less than or equal to $n$, you will be able to easily compute $\\pi(n)$.\n",
        "\n",
        "What is $\\pi(1000000)$, the number of the prime numbers less than one million?"
      ]
    },
    {
      "metadata": {
        "id": "bK_CMdl2rU3S",
        "colab": {
          "base_uri": "https://localhost:8080/"
        },
        "outputId": "0727e9ce-e7ba-4525-f96f-d2aec12941e0"
      },
      "cell_type": "code",
      "source": [
        "#1\n",
        "\n",
        "\n",
        "n = 1000000\n",
        "L  = [i for i in range(2,n+1)]\n",
        "L = set(L)\n",
        "p = 2\n",
        "p_save = set([2])\n",
        "while p**2 <= n:\n",
        "  P_s = set([i for i in range(2*p,n+1,p)])\n",
        "  L = L-P_s\n",
        "  p = min(L - p_save)\n",
        "  p_save.add(p)\n",
        "\n",
        "\n",
        "\n",
        "print(len(L))\n",
        "\n",
        "\n",
        "\n",
        "\n",
        "\n",
        "\n",
        "\n",
        "# p = 2\n",
        "\n"
      ],
      "execution_count": 20,
      "outputs": [
        {
          "output_type": "stream",
          "name": "stdout",
          "text": [
            "78498\n"
          ]
        }
      ]
    },
    {
      "cell_type": "code",
      "source": [
        "n=1000000\n",
        "\n",
        "def Eratosthenes(n):\n",
        "  number = list(range(n+1))\n",
        "  isprime = list(range(n+1))\n",
        "  primenumbers = []\n",
        "  for i in number:\n",
        "    isprime[i] = 1\n",
        "  isprime[0], isprime[1] = 0, 0\n",
        "  k=2\n",
        "  while (k<=n):\n",
        "    if (isprime[k]):\n",
        "      primenumbers.append(k)\n",
        "      for j in range(2*k,n+1,k):\n",
        "        isprime[j] = 0\n",
        "    k += 1\n",
        "  return primenumbers\n",
        "\n",
        "def prime_counting_function(n):\n",
        "  return len(Eratosthenes(n))\n",
        "\n",
        "print(f'pi({n})={prime_counting_function(n)}')"
      ],
      "metadata": {
        "id": "PXpa9V2D9x9s",
        "outputId": "f13a8753-2fd3-42f4-cfb6-dae764f99547",
        "colab": {
          "base_uri": "https://localhost:8080/"
        }
      },
      "execution_count": 21,
      "outputs": [
        {
          "output_type": "stream",
          "name": "stdout",
          "text": [
            "pi(1000000)=78498\n"
          ]
        }
      ]
    }
  ]
}